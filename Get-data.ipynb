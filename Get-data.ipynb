{
 "cells": [
  {
   "cell_type": "markdown",
   "id": "e8e39d5d",
   "metadata": {},
   "source": [
    "# Get datasets"
   ]
  },
  {
   "cell_type": "markdown",
   "id": "f07416ed",
   "metadata": {},
   "source": [
    "## Download datasets"
   ]
  },
  {
   "cell_type": "markdown",
   "id": "c26d7935",
   "metadata": {},
   "source": [
    "Import packages"
   ]
  },
  {
   "cell_type": "code",
   "execution_count": 1,
   "id": "22a00bb4",
   "metadata": {},
   "outputs": [],
   "source": [
    "import opendatasets as od\n",
    "import pandas as pd\n",
    "from tqdm import tqdm\n",
    "tqdm.pandas()"
   ]
  },
  {
   "cell_type": "markdown",
   "id": "6cd02949",
   "metadata": {},
   "source": [
    "URLs of dataset from Kaggle"
   ]
  },
  {
   "cell_type": "code",
   "execution_count": 2,
   "id": "6b9d4ef7",
   "metadata": {},
   "outputs": [],
   "source": [
    "english_dataset_url = \"https://www.kaggle.com/datasets/ferno2/training1600000processednoemoticoncsv\"\n",
    "apostrophe_url = \"https://www.kaggle.com/datasets/ishivinal/contractions\"\n",
    "abbreviations_url =  \"https://www.kaggle.com/datasets/gowrishankarp/chat-slang-abbreviations-acronyms\"\n",
    "emoji_url = \"https://www.kaggle.com/datasets/thomasseleck/emoji-sentiment-data\"\n"
   ]
  },
  {
   "cell_type": "markdown",
   "id": "c06eb655",
   "metadata": {},
   "source": [
    "Download english dataset"
   ]
  },
  {
   "cell_type": "code",
   "execution_count": 3,
   "id": "760198ab",
   "metadata": {},
   "outputs": [
    {
     "name": "stdout",
     "output_type": "stream",
     "text": [
      "Please provide your Kaggle credentials to download this dataset. Learn more: http://bit.ly/kaggle-creds\n",
      "Your Kaggle username:Your Kaggle Key:Downloading training1600000processednoemoticoncsv.zip to .\\training1600000processednoemoticoncsv\n"
     ]
    },
    {
     "name": "stderr",
     "output_type": "stream",
     "text": [
      "100%|██████████| 80.9M/80.9M [00:16<00:00, 5.04MB/s]\n"
     ]
    },
    {
     "name": "stdout",
     "output_type": "stream",
     "text": [
      "\n"
     ]
    }
   ],
   "source": [
    "od.download(english_dataset_url)"
   ]
  },
  {
   "cell_type": "markdown",
   "id": "4b7804ae",
   "metadata": {},
   "source": [
    "Download apostrophe dataset"
   ]
  },
  {
   "cell_type": "code",
   "execution_count": 4,
   "id": "9ce87180",
   "metadata": {},
   "outputs": [
    {
     "name": "stdout",
     "output_type": "stream",
     "text": [
      "Please provide your Kaggle credentials to download this dataset. Learn more: http://bit.ly/kaggle-creds\n",
      "Your Kaggle username:Your Kaggle Key:Downloading contractions.zip to .\\contractions\n"
     ]
    },
    {
     "name": "stderr",
     "output_type": "stream",
     "text": [
      "100%|██████████| 1.05k/1.05k [00:00<00:00, 83.1kB/s]"
     ]
    },
    {
     "name": "stdout",
     "output_type": "stream",
     "text": [
      "\n"
     ]
    },
    {
     "name": "stderr",
     "output_type": "stream",
     "text": [
      "\n"
     ]
    }
   ],
   "source": [
    "od.download(apostrophe_url)"
   ]
  },
  {
   "cell_type": "markdown",
   "id": "a220b902",
   "metadata": {},
   "source": [
    "Download abbreviations dataset"
   ]
  },
  {
   "cell_type": "code",
   "execution_count": 5,
   "id": "de0a2363",
   "metadata": {},
   "outputs": [
    {
     "name": "stdout",
     "output_type": "stream",
     "text": [
      "Please provide your Kaggle credentials to download this dataset. Learn more: http://bit.ly/kaggle-creds\n",
      "Your Kaggle username:Your Kaggle Key:Downloading chat-slang-abbreviations-acronyms.zip to .\\chat-slang-abbreviations-acronyms\n"
     ]
    },
    {
     "name": "stderr",
     "output_type": "stream",
     "text": [
      "100%|██████████| 156k/156k [00:00<00:00, 3.10MB/s]"
     ]
    },
    {
     "name": "stdout",
     "output_type": "stream",
     "text": [
      "\n"
     ]
    },
    {
     "name": "stderr",
     "output_type": "stream",
     "text": [
      "\n"
     ]
    }
   ],
   "source": [
    "od.download(abbreviations_url)"
   ]
  },
  {
   "cell_type": "markdown",
   "id": "ddad26eb",
   "metadata": {},
   "source": [
    "Download emoji dataset"
   ]
  },
  {
   "cell_type": "code",
   "execution_count": 7,
   "id": "023c25b2",
   "metadata": {},
   "outputs": [
    {
     "name": "stdout",
     "output_type": "stream",
     "text": [
      "Please provide your Kaggle credentials to download this dataset. Learn more: http://bit.ly/kaggle-creds\n",
      "Your Kaggle username:Your Kaggle Key:Downloading emoji-sentiment-data.zip to .\\emoji-sentiment-data\n"
     ]
    },
    {
     "name": "stderr",
     "output_type": "stream",
     "text": [
      "100%|██████████| 33.4k/33.4k [00:00<00:00, 319kB/s]"
     ]
    },
    {
     "name": "stdout",
     "output_type": "stream",
     "text": [
      "\n"
     ]
    },
    {
     "name": "stderr",
     "output_type": "stream",
     "text": [
      "\n"
     ]
    }
   ],
   "source": [
    "od.download(emoji_url)"
   ]
  },
  {
   "cell_type": "markdown",
   "id": "7fa0c811",
   "metadata": {},
   "source": [
    "Move all necessary csv files and move to raw_datasets and delete the rest"
   ]
  }
 ],
 "metadata": {
  "kernelspec": {
   "display_name": "Python 3.8.0 ('env': venv)",
   "language": "python",
   "name": "python3"
  },
  "language_info": {
   "codemirror_mode": {
    "name": "ipython",
    "version": 3
   },
   "file_extension": ".py",
   "mimetype": "text/x-python",
   "name": "python",
   "nbconvert_exporter": "python",
   "pygments_lexer": "ipython3",
   "version": "3.8.0"
  },
  "vscode": {
   "interpreter": {
    "hash": "a9b96db02e8fd67c67adb2efc173fddbdd20bb25d709d2e7a4c8585ee9369449"
   }
  }
 },
 "nbformat": 4,
 "nbformat_minor": 5
}
